{
 "cells": [
  {
   "cell_type": "markdown",
   "metadata": {},
   "source": [
    "# Non Personalised  Recommendation Systems"
   ]
  },
  {
   "cell_type": "code",
   "execution_count": 231,
   "metadata": {
    "collapsed": false
   },
   "outputs": [
    {
     "name": "stdout",
     "output_type": "stream",
     "text": [
      "Mean :  Index(['318: Shawshank Redemption, The (1994)',\n",
      "       '260: Star Wars: Episode IV - A New Hope (1977)',\n",
      "       '541: Blade Runner (1982)', '1265: Groundhog Day (1993)',\n",
      "       '593: Silence of the Lambs, The (1991)'],\n",
      "      dtype='object')\n",
      "Most Rated :  Index(['1: Toy Story (1995)', '593: Silence of the Lambs, The (1991)',\n",
      "       '260: Star Wars: Episode IV - A New Hope (1977)',\n",
      "       '1210: Star Wars: Episode VI - Return of the Jedi (1983)',\n",
      "       '780: Independence Day (ID4) (1996)'],\n",
      "      dtype='object')\n",
      "High Rated :  dict_keys(['3578: Gladiator (2000)', '541: Blade Runner (1982)', '260: Star Wars: Episode IV - A New Hope (1977)', '318: Shawshank Redemption, The (1994)', '593: Silence of the Lambs, The (1991)'])\n",
      "Associations :  dict_keys(['1: Toy Story (1995)', '1210: Star Wars: Episode VI - Return of the Jedi (1983)', '2916: Total Recall (1990)', '780: Independence Day (ID4) (1996)', '593: Silence of the Lambs, The (1991)'])\n"
     ]
    }
   ],
   "source": [
    "import pandas, numpy\n",
    "df = pandas.read_csv(\"A1Ratings.csv\")\n",
    "#print(data)\n",
    "print(\"Mean : \", _mean(df).keys())\n",
    "print(\"Most Rated : \", _most_ratings(df).keys())\n",
    "print(\"High Rated : \", _high_rated(df))\n",
    "print(\"Associations : \", _best_associations(df))"
   ]
  },
  {
   "cell_type": "code",
   "execution_count": 232,
   "metadata": {
    "collapsed": false
   },
   "outputs": [],
   "source": [
    "def _mean(data_frame):\n",
    "    mean_df = data_frame.mean()\n",
    "    return mean_df.sort_values(ascending=False)[1:6]"
   ]
  },
  {
   "cell_type": "code",
   "execution_count": 56,
   "metadata": {
    "collapsed": false
   },
   "outputs": [],
   "source": [
    "def _most_ratings(data_frame):\n",
    "    return data_frame.count().sort_values(ascending=False)[1:6]"
   ]
  },
  {
   "cell_type": "code",
   "execution_count": 196,
   "metadata": {
    "collapsed": false
   },
   "outputs": [],
   "source": [
    "def _high_rated(data_frame):\n",
    "    movies = data_frame.columns[1:]\n",
    "    #print(movies)\n",
    "    number_movies = len(data_frame.columns)-1\n",
    "    percentage_dict = {}\n",
    "    for i in range(1, number_movies+1):\n",
    "        ratings_count = dict(data_frame.iloc[:, i].value_counts())\n",
    "        #print(movies[i], ratings_count)\n",
    "        high_ratings = sum([ v for k, v in ratings_count.items() if k >= 4.0])\n",
    "        #print([ v for k, v in ratings_count.items() if k >= 4.0])\n",
    "        percentage_dict[movies[i-1]] = high_ratings / data_frame.iloc[:, i].count()\n",
    "    #print(percentage_dict)\n",
    "    return dict(sorted(percentage_dict.items(), key=lambda x: x[1], reverse=True)[:5]).keys()"
   ]
  },
  {
   "cell_type": "code",
   "execution_count": 228,
   "metadata": {
    "collapsed": true
   },
   "outputs": [],
   "source": [
    "def _best_associations(data_frame):\n",
    "    number_movies = data_frame.shape[1] - 1\n",
    "    number_users = data_frame.shape[0] - 1 \n",
    "    movies = data_frame.columns[1:]\n",
    "    star_wars = data_frame.iloc[:, 1].isnull()\n",
    "    star_wars_count = data_frame.iloc[:, 1].count()\n",
    "    #print(star_wars)\n",
    "    association_dict = {}\n",
    "    for i in range(2, number_movies+1):\n",
    "        current_movie_ratings = data_frame.iloc[:, i].isnull()\n",
    "        common_rate = len([j for j in range(number_users) if not star_wars[j] and not current_movie_ratings[j]])\n",
    "        association_dict[movies[i-1]] = common_rate * 1.0 / star_wars_count\n",
    "    return dict(sorted(association_dict.items(), key=lambda x: x[1], reverse=True)[:5]).keys()"
   ]
  },
  {
   "cell_type": "code",
   "execution_count": null,
   "metadata": {
    "collapsed": true
   },
   "outputs": [],
   "source": []
  }
 ],
 "metadata": {
  "kernelspec": {
   "display_name": "Python 3",
   "language": "python",
   "name": "python3"
  },
  "language_info": {
   "codemirror_mode": {
    "name": "ipython",
    "version": 3
   },
   "file_extension": ".py",
   "mimetype": "text/x-python",
   "name": "python",
   "nbconvert_exporter": "python",
   "pygments_lexer": "ipython3",
   "version": "3.5.2"
  }
 },
 "nbformat": 4,
 "nbformat_minor": 1
}
